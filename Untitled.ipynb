{
 "cells": [
  {
   "cell_type": "code",
   "execution_count": 20,
   "id": "5e3c10d3",
   "metadata": {},
   "outputs": [],
   "source": [
    "import numpy as np\n",
    "import cv2\n",
    "import json\n",
    "from target_localization import get_target_points\n",
    "\n",
    "def get_camera_parameters(json_path):\n",
    "\n",
    "    with open(json_path, 'r') as f:\n",
    "        camera_params = json.load(f)\n",
    "\n",
    "    # extract camera parameters\n",
    "    f = camera_params[\"f\"][\"val\"]\n",
    "    cx = camera_params[\"cx\"][\"val\"]\n",
    "    cy = camera_params[\"cy\"][\"val\"]\n",
    "    k1 = camera_params[\"k1\"][\"val\"]\n",
    "    k2 = camera_params[\"k2\"][\"val\"]\n",
    "    k3 = camera_params[\"k3\"][\"val\"]\n",
    "    p1 = camera_params[\"p1\"][\"val\"]\n",
    "    p2 = camera_params[\"p2\"][\"val\"]\n",
    "\n",
    "    # Construct the camera intrinsic parameter matrixs\n",
    "    K = np.array([[f, 0, cx],\n",
    "                  [0, f, cy],\n",
    "                  [0, 0, 1]])\n",
    "\n",
    "    # Construct distortion coefficient vector\n",
    "    dist_coeffs = np.array([k1, k2, k3, p1, p2])\n",
    "\n",
    "    return K, dist_coeffs\n",
    "\n",
    "if __name__ == \"__main__\":\n",
    "\n",
    "    # [1] Loaded all the images and store in a dict\n",
    "    image_path_dict = {\n",
    "        \"camera_11_left\": \"camera 11/2022_12_15_15_51_19_927_rgb_left.png\",\n",
    "        \"camera_11_right\": \"camera 11/2022_12_15_15_51_19_927_rgb_right.png\",\n",
    "        \"camera_71\": \"camera 71/2022_12_15_15_51_19_944_rgb.png\",\n",
    "        \"camera_72\": \"camera 72/2022_12_15_15_51_19_956_rgb.png\",\n",
    "        \"camera_73\": \"camera 73/2022_12_15_15_51_19_934_rgb.png\",\n",
    "        \"camera_74\": \"camera 74/2022_12_15_15_51_19_951_rgb.png\",\n",
    "    }\n",
    "\n",
    "    camera_path_dict = {\n",
    "        \"camera_11_left\": \"camera parameters/zedLeft720p.json\",\n",
    "        \"camera_11_right\": \"camera parameters/zedRight720p.json\",\n",
    "        \"camera_71\": \"camera parameters/realsense71RGB.json\",\n",
    "        \"camera_72\": \"camera parameters/realsense72RGB.json\",\n",
    "        \"camera_73\": \"camera parameters/realsense73RGB.json\",\n",
    "        \"camera_74\": \"camera parameters/realsense74RGB.json\",\n",
    "    }\n",
    "\n",
    "    # image_dict = {}\n",
    "    # for key in image_path_dict.keys():\n",
    "    #     img_path = image_path_dict[key]\n",
    "    #     img = cv2.imread(img_path)\n",
    "    #     image_rgb = cv2.cvtColor(img, cv2.COLOR_BGR2RGB)\n",
    "    #     image_dict[key] = image_rgb\n",
    "\n",
    "\n",
    "    # [2] Get the target point in each image taken by different cameras\n",
    "    # TODO: here we could use thresold search to guarantee the number of targets we acquired from each image\n",
    "\n",
    "    # [3] We first use the stereo camera: camera 11 to get the relative world coordinate of targets\n",
    "    # [3.1] get the target list of two images\n",
    "    left_img, left_target_list = get_target_points(image_path_dict[\"camera_11_left\"])\n",
    "    right_img, right_target_list = get_target_points(image_path_dict[\"camera_11_right\"])\n",
    "    # [3.2] construct target label based dict to map corresponding points\n",
    "    left_target_dict = {}\n",
    "    for targets_info in left_target_list:\n",
    "        left_target_dict[targets_info[\"key\"]] = targets_info[\"weighted_centroids\"]\n",
    "\n",
    "    right_target_dict = {}\n",
    "    for targets_info in right_target_list:\n",
    "        right_target_dict[targets_info[\"key\"]] = targets_info[\"weighted_centroids\"]\n",
    "\n",
    "    # [3.3] get the coordinates of the same target point in left and right images\n",
    "    image_points_left = []\n",
    "    image_points_right = []\n",
    "    for key in left_target_dict.keys():\n",
    "        if right_target_dict.get(key, None) is not None:\n",
    "            image_points_left.append(left_target_dict.get(key))\n",
    "            image_points_right.append(right_target_dict.get(key))\n",
    "\n",
    "    image_points_left = np.vstack(image_points_left)\n",
    "    image_points_right = np.vstack(image_points_right)\n",
    "    # [4] Get the camera intrinsic parameter matrix and distortion coefficients\n",
    "    camera_matrix_left, distortion_coeffs_left = get_camera_parameters(camera_path_dict[\"camera_11_left\"])\n",
    "    camera_matrix_right, distortion_coeffs_right = get_camera_parameters(camera_path_dict[\"camera_11_right\"])\n",
    "    \n"
   ]
  },
  {
   "cell_type": "code",
   "execution_count": null,
   "id": "c6ac4eca",
   "metadata": {},
   "outputs": [],
   "source": []
  },
  {
   "cell_type": "code",
   "execution_count": 26,
   "id": "54d4c62d",
   "metadata": {},
   "outputs": [],
   "source": [
    "# 去畸变\n",
    "imagePoints_left_undistorted = cv2.undistortPoints(image_points_left, camera_matrix_left, distortion_coeffs_left)\n",
    "imagePoints_right_undistorted = cv2.undistortPoints(image_points_right, camera_matrix_right, distortion_coeffs_right)\n",
    "\n",
    "# 计算单应矩阵\n",
    "homography, _ = cv2.findHomography(imagePoints_left_undistorted, imagePoints_right_undistorted, method=cv2.RANSAC)\n",
    "\n",
    "# 通过单应矩阵计算基础矩阵\n",
    "F = np.linalg.inv(camera_matrix_right).T @ homography @ np.linalg.inv(camera_matrix_left)\n"
   ]
  },
  {
   "cell_type": "code",
   "execution_count": 29,
   "id": "d143e0a2",
   "metadata": {},
   "outputs": [
    {
     "data": {
      "text/plain": [
       "(array([[ 7.49493882e-01,  4.26541771e-01,  5.06281580e-01],\n",
       "        [ 4.39988804e-01,  2.50461360e-01, -8.62368227e-01],\n",
       "        [-4.94640044e-01,  8.69097938e-01,  4.56531842e-05]]),\n",
       " array([[ 7.49513585e-01,  4.28109169e-01, -5.04927644e-01],\n",
       "        [ 4.38471949e-01,  2.50388252e-01,  8.63161672e-01],\n",
       "        [ 4.95955376e-01, -8.68348008e-01, -4.44651466e-05]]),\n",
       " array([[-8.62764952e-01],\n",
       "        [-5.05604653e-01],\n",
       "        [-7.57049606e-04]]))"
      ]
     },
     "execution_count": 29,
     "metadata": {},
     "output_type": "execute_result"
    }
   ],
   "source": [
    "# 通过基础矩阵恢复相机的外部参数\n",
    "cv2.decomposeEssentialMat(F)\n",
    "\n",
    "# # 打印相机的外部参数\n",
    "# print(\"旋转矩阵：\")\n",
    "# print(R)\n",
    "# print(\"\\n平移向量：\")\n",
    "# print(T)"
   ]
  },
  {
   "cell_type": "code",
   "execution_count": 30,
   "id": "4a5b3ce4",
   "metadata": {},
   "outputs": [
    {
     "ename": "ValueError",
     "evalue": "not enough values to unpack (expected 5, got 3)",
     "output_type": "error",
     "traceback": [
      "\u001b[1;31m---------------------------------------------------------------------------\u001b[0m",
      "\u001b[1;31mValueError\u001b[0m                                Traceback (most recent call last)",
      "\u001b[1;32m<ipython-input-30-0fa0c3ed2124>\u001b[0m in \u001b[0;36m<module>\u001b[1;34m\u001b[0m\n\u001b[1;32m----> 1\u001b[1;33m \u001b[0m_\u001b[0m\u001b[1;33m,\u001b[0m \u001b[0mR\u001b[0m\u001b[1;33m,\u001b[0m \u001b[0mT\u001b[0m\u001b[1;33m,\u001b[0m \u001b[0m_\u001b[0m\u001b[1;33m,\u001b[0m \u001b[0m_\u001b[0m \u001b[1;33m=\u001b[0m \u001b[0mcv2\u001b[0m\u001b[1;33m.\u001b[0m\u001b[0mdecomposeEssentialMat\u001b[0m\u001b[1;33m(\u001b[0m\u001b[0mF\u001b[0m\u001b[1;33m)\u001b[0m\u001b[1;33m\u001b[0m\u001b[1;33m\u001b[0m\u001b[0m\n\u001b[0m",
      "\u001b[1;31mValueError\u001b[0m: not enough values to unpack (expected 5, got 3)"
     ]
    }
   ],
   "source": [
    "_, R, T, _, _ = cv2.decomposeEssentialMat(F)\n"
   ]
  },
  {
   "cell_type": "code",
   "execution_count": 24,
   "id": "66985e0d",
   "metadata": {},
   "outputs": [
    {
     "data": {
      "text/plain": [
       "(array([[-0.38327303, -0.13971335]]), array([394.70525862, 270.58345481]))"
      ]
     },
     "execution_count": 24,
     "metadata": {},
     "output_type": "execute_result"
    }
   ],
   "source": [
    "imagePoints_left_undistorted[0], image_points_left[0]"
   ]
  },
  {
   "cell_type": "code",
   "execution_count": 18,
   "id": "61140abf",
   "metadata": {},
   "outputs": [
    {
     "data": {
      "text/plain": [
       "(array([[640.,   0., 640.],\n",
       "        [  0., 640., 360.],\n",
       "        [  0.,   0.,   1.]]),\n",
       " array([[0.],\n",
       "        [0.],\n",
       "        [0.],\n",
       "        [0.],\n",
       "        [0.]]))"
      ]
     },
     "execution_count": 18,
     "metadata": {},
     "output_type": "execute_result"
    }
   ],
   "source": [
    "camera_matrix_right_c, distortion_coeffs_right_c"
   ]
  },
  {
   "cell_type": "code",
   "execution_count": 19,
   "id": "042a24e8",
   "metadata": {},
   "outputs": [
    {
     "data": {
      "text/plain": [
       "(array([[640,   0, 640],\n",
       "        [  0, 640, 360],\n",
       "        [  0,   0,   1]]),\n",
       " array([0, 0, 0, 0, 0]))"
      ]
     },
     "execution_count": 19,
     "metadata": {},
     "output_type": "execute_result"
    }
   ],
   "source": [
    "camera_matrix_right, distortion_coeffs_right"
   ]
  },
  {
   "cell_type": "code",
   "execution_count": 9,
   "id": "d1ece8a4",
   "metadata": {},
   "outputs": [
    {
     "name": "stdout",
     "output_type": "stream",
     "text": [
      "(4, 36)\n",
      "(36, 3)\n",
      "点1的物理坐标：(4.0633202406956146e-10, 2.7882852862429527e-10, 1.0123156602320273e-12)\n",
      "点2的物理坐标：(4.667942383455597e-10, 3.198192522217587e-10, 1.1168482068741336e-12)\n",
      "点3的物理坐标：(4.960243153259718e-10, 3.6630921365643547e-10, 1.1917558428497536e-12)\n",
      "点4的物理坐标：(4.4354495624838077e-10, 3.535378827477161e-10, 1.1134682449522916e-12)\n",
      "点5的物理坐标：(3.810922628216852e-10, 3.0560511897108774e-10, 9.963312353925978e-13)\n",
      "点6的物理坐标：(3.6574418815094654e-10, 2.7198788068905947e-10, 9.51538686323529e-13)\n",
      "点7的物理坐标：(7.064889377311128e-11, 9.756498309043085e-11, 3.408841049088912e-13)\n",
      "点8的物理坐标：(8.30643368559607e-11, 1.1110589487432771e-10, 3.759015946837464e-13)\n",
      "点9的物理坐标：(8.342438931566094e-11, 1.198580599502794e-10, 3.8000740250509304e-13)\n",
      "点10的物理坐标：(7.292146937602388e-11, 1.1616369817331657e-10, 3.564326833221235e-13)\n",
      "点11的物理坐标：(6.126340705472708e-11, 1.0098785040629295e-10, 3.1884894303005766e-13)\n",
      "点12的物理坐标：(6.101166218741445e-11, 9.361664121059173e-11, 3.1513863430474506e-13)\n",
      "点13的物理坐标：(2.0122000567637803e-09, 8.331912774223232e-10, 2.8268972655805143e-12)\n",
      "点14的物理坐标：(2.0304888844057385e-09, 8.508652180431524e-10, 2.7785421467116622e-12)\n",
      "点15的物理坐标：(2.2331908822310927e-09, 1.0049246941520811e-09, 3.0592655464359405e-12)\n",
      "点16的物理坐标：(1.9455369422416875e-09, 9.2828801574919e-10, 2.7377578428059773e-12)\n",
      "点17的物理坐标：(1.8081198316608482e-09, 8.559266294941139e-10, 2.6137028589485955e-12)\n",
      "点18的物理坐标：(1.7715292401036266e-09, 7.81238135455881e-10, 2.5578835421569186e-12)\n",
      "点19的物理坐标：(5.454352733565569e-09, 1.6848364128692628e-09, 4.843058526031438e-12)\n",
      "点20的物理坐标：(4.470696793893205e-09, 1.4156150895369846e-09, 3.9153583361252135e-12)\n",
      "点21的物理坐标：(3.2857627056341353e-09, 1.1282198279977042e-09, 2.8776100170543433e-12)\n",
      "点22的物理坐标：(3.887096348732371e-09, 1.404285600271189e-09, 3.4533233965179012e-12)\n",
      "点23的物理坐标：(5.351430252314604e-09, 1.8823862691573576e-09, 4.812357375751952e-12)\n",
      "点24的物理坐标：(4.691778866237544e-09, 1.5323567946145596e-09, 4.216390338235666e-12)\n",
      "点25的物理坐标：(1.1742508455954862e-09, 7.606250078177483e-10, 2.1477850021582265e-12)\n",
      "点26的物理坐标：(1.3195758254262218e-09, 8.563034684132043e-10, 2.3385051797676973e-12)\n",
      "点27的物理坐标：(1.3239887096722937e-09, 9.132677148361625e-10, 2.3523939508271512e-12)\n",
      "点28的物理坐标：(1.3276822993093696e-09, 9.72583351808678e-10, 2.445050435759483e-12)\n",
      "点29的物理坐标：(1.1264520840575187e-09, 8.266144482792624e-10, 2.1431187572921815e-12)\n",
      "点30的物理坐标：(1.0899538086473737e-09, 7.519817285312751e-10, 2.0667226169712394e-12)\n",
      "点31的物理坐标：(2.5489072752778537e-09, 1.131103273938466e-09, 2.9154533054372633e-12)\n",
      "点32的物理坐标：(2.8443667707820803e-09, 1.2756024116999873e-09, 3.188550743605169e-12)\n",
      "点33的物理坐标：(2.580257423942467e-09, 1.2237521512855343e-09, 2.894829955458366e-12)\n",
      "点34的物理坐标：(2.5653362845888677e-09, 1.2728816728970785e-09, 2.9423496858487533e-12)\n",
      "点35的物理坐标：(2.560905978546926e-09, 1.262804893336384e-09, 3.0008267855080477e-12)\n",
      "点36的物理坐标：(2.525867914933177e-09, 1.17689940611319e-09, 2.956488472914953e-12)\n"
     ]
    },
    {
     "data": {
      "image/png": "[encoded data removed]",
      "text/plain": [
       "<Figure size 432x288 with 1 Axes>"
      ]
     },
     "metadata": {
      "needs_background": "light"
     },
     "output_type": "display_data"
    }
   ],
   "source": [
    "print(points4D.shape)\n",
    "points3D = cv2.convertPointsFromHomogeneous(points4D.T).squeeze()\n",
    "print(points3D.shape)\n",
    "# # 输出结果\n",
    "for i in range(points3D.shape[0]):\n",
    "    x, y, z = points3D[i]\n",
    "    print(f\"点{i + 1}的物理坐标：({x}, {y}, {z})\")\n",
    "    \n",
    "    \n",
    "# 进行点云可视化（可选）\n",
    "from mpl_toolkits.mplot3d import Axes3D\n",
    "import matplotlib.pyplot as plt\n",
    "\n",
    "fig = plt.figure()\n",
    "ax = fig.add_subplot(111, projection='3d')\n",
    "\n",
    "# 提取 X、Y、Z 坐标\n",
    "X = points3D[:, 0]\n",
    "Y = points3D[:, 1]\n",
    "Z = points3D[:, 2]\n",
    "\n",
    "# 绘制点云\n",
    "ax.scatter(X, Y, Z, c='r', marker='o')\n",
    "\n",
    "# 设置坐标轴标签\n",
    "ax.set_xlabel('X')\n",
    "ax.set_ylabel('Y')\n",
    "ax.set_zlabel('Z')\n",
    "\n",
    "# 设置图形标题\n",
    "plt.title('3D Point Cloud')\n",
    "\n",
    "# 显示图形\n",
    "plt.show()\n"
   ]
  }
 ],
 "metadata": {
  "kernelspec": {
   "display_name": "Python 3",
   "language": "python",
   "name": "python3"
  },
  "language_info": {
   "codemirror_mode": {
    "name": "ipython",
    "version": 3
   },
   "file_extension": ".py",
   "mimetype": "text/x-python",
   "name": "python",
   "nbconvert_exporter": "python",
   "pygments_lexer": "ipython3",
   "version": "3.8.8"
  }
 },
 "nbformat": 4,
 "nbformat_minor": 5
}
